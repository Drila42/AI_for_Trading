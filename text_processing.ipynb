{
 "cells": [
  {
   "cell_type": "markdown",
   "metadata": {},
   "source": [
    "# Text Processing\n",
    "\n",
    "## Capturing Text Data\n",
    "\n",
    "### Plain Text"
   ]
  },
  {
   "cell_type": "code",
   "execution_count": 1,
   "metadata": {},
   "outputs": [
    {
     "name": "stdout",
     "output_type": "stream",
     "text": [
      "Hieroglyphic writing dates from c. 3000 BC, and is composed of hundreds of symbols. A hieroglyph can represent a word, a sound, or a silent determinative; and the same symbol can serve different purposes in different contexts. Hieroglyphs were a formal script, used on stone monuments and in tombs, that could be as detailed as individual works of art.\n",
      "\n"
     ]
    }
   ],
   "source": [
    "import os\n",
    "\n",
    "# Read in a plain text file\n",
    "with open(os.path.join(\"data\", \"hieroglyph.txt\"), \"r\") as f:\n",
    "    text = f.read()\n",
    "    print(text)"
   ]
  },
  {
   "cell_type": "markdown",
   "metadata": {},
   "source": [
    "### Tabular Data"
   ]
  },
  {
   "cell_type": "code",
   "execution_count": 2,
   "metadata": {
    "scrolled": true
   },
   "outputs": [
    {
     "data": {
      "text/html": [
       "<div>\n",
       "<style scoped>\n",
       "    .dataframe tbody tr th:only-of-type {\n",
       "        vertical-align: middle;\n",
       "    }\n",
       "\n",
       "    .dataframe tbody tr th {\n",
       "        vertical-align: top;\n",
       "    }\n",
       "\n",
       "    .dataframe thead th {\n",
       "        text-align: right;\n",
       "    }\n",
       "</style>\n",
       "<table border=\"1\" class=\"dataframe\">\n",
       "  <thead>\n",
       "    <tr style=\"text-align: right;\">\n",
       "      <th></th>\n",
       "      <th>publisher</th>\n",
       "      <th>title</th>\n",
       "    </tr>\n",
       "  </thead>\n",
       "  <tbody>\n",
       "    <tr>\n",
       "      <th>0</th>\n",
       "      <td>Livemint</td>\n",
       "      <td>fed's charles plosser sees high bar for change...</td>\n",
       "    </tr>\n",
       "    <tr>\n",
       "      <th>1</th>\n",
       "      <td>IFA Magazine</td>\n",
       "      <td>us open: stocks fall after fed official hints ...</td>\n",
       "    </tr>\n",
       "    <tr>\n",
       "      <th>2</th>\n",
       "      <td>IFA Magazine</td>\n",
       "      <td>fed risks falling 'behind the curve', charles ...</td>\n",
       "    </tr>\n",
       "    <tr>\n",
       "      <th>3</th>\n",
       "      <td>Moneynews</td>\n",
       "      <td>fed's plosser: nasty weather has curbed job gr...</td>\n",
       "    </tr>\n",
       "    <tr>\n",
       "      <th>4</th>\n",
       "      <td>NASDAQ</td>\n",
       "      <td>plosser: fed may have to accelerate tapering pace</td>\n",
       "    </tr>\n",
       "  </tbody>\n",
       "</table>\n",
       "</div>"
      ],
      "text/plain": [
       "      publisher                                              title\n",
       "0      Livemint  fed's charles plosser sees high bar for change...\n",
       "1  IFA Magazine  us open: stocks fall after fed official hints ...\n",
       "2  IFA Magazine  fed risks falling 'behind the curve', charles ...\n",
       "3     Moneynews  fed's plosser: nasty weather has curbed job gr...\n",
       "4        NASDAQ  plosser: fed may have to accelerate tapering pace"
      ]
     },
     "execution_count": 2,
     "metadata": {},
     "output_type": "execute_result"
    }
   ],
   "source": [
    "import pandas as pd\n",
    "\n",
    "# Extract text column from a dataframe\n",
    "df = pd.read_csv(os.path.join(\"data\", \"news.csv\"))\n",
    "df.head()[['publisher', 'title']]\n",
    "\n",
    "# Convert text column to lowercase\n",
    "df['title'] = df['title'].str.lower()\n",
    "df.head()[['publisher', 'title']]"
   ]
  },
  {
   "cell_type": "markdown",
   "metadata": {},
   "source": [
    "### Online Resource"
   ]
  },
  {
   "cell_type": "code",
   "execution_count": 3,
   "metadata": {
    "scrolled": true
   },
   "outputs": [
    {
     "name": "stdout",
     "output_type": "stream",
     "text": [
      "{\n",
      "    \"success\": {\n",
      "        \"total\": 1\n",
      "    },\n",
      "    \"contents\": {\n",
      "        \"quotes\": [\n",
      "            {\n",
      "                \"quote\": \"Life is like a camera: just focus on what is important, capture good times, develop from negative, and if things do not work out, take another shot!\",\n",
      "                \"length\": \"148\",\n",
      "                \"author\": \"Daireth Winehouse\",\n",
      "                \"tags\": {\n",
      "                    \"0\": \"inspire\",\n",
      "                    \"2\": \"tso-life\"\n",
      "                },\n",
      "                \"category\": \"inspire\",\n",
      "                \"language\": \"en\",\n",
      "                \"date\": \"2020-05-10\",\n",
      "                \"permalink\": \"https://theysaidso.com/quote/daireth-winehouse-life-is-like-a-camera-just-focus-on-what-is-important-capture\",\n",
      "                \"id\": \"o3vMlzwgfgOkNQc_ZXREwweF\",\n",
      "                \"background\": \"https://theysaidso.com/img/qod/qod-inspire.jpg\",\n",
      "                \"title\": \"Inspiring Quote of the day\"\n",
      "            }\n",
      "        ]\n",
      "    },\n",
      "    \"baseurl\": \"https://theysaidso.com\",\n",
      "    \"copyright\": {\n",
      "        \"year\": 2022,\n",
      "        \"url\": \"https://theysaidso.com\"\n",
      "    }\n",
      "}\n",
      "Life is like a camera: just focus on what is important, capture good times, develop from negative, and if things do not work out, take another shot! \n",
      "-- Daireth Winehouse\n"
     ]
    }
   ],
   "source": [
    "import requests\n",
    "import json\n",
    "\n",
    "# Fetch data from a REST API\n",
    "r = requests.get(\n",
    "    \"https://quotes.rest/qod.json\")\n",
    "res = r.json()\n",
    "print(json.dumps(res, indent=4))\n",
    "\n",
    "# Extract relevant object and field\n",
    "q = res[\"contents\"][\"quotes\"][0]\n",
    "print(q[\"quote\"], \"\\n--\", q[\"author\"])"
   ]
  },
  {
   "cell_type": "markdown",
   "metadata": {},
   "source": [
    "## Cleaning"
   ]
  },
  {
   "cell_type": "code",
   "execution_count": 4,
   "metadata": {
    "scrolled": true
   },
   "outputs": [
    {
     "name": "stdout",
     "output_type": "stream",
     "text": [
      "<html lang=\"en\" op=\"news\"><head><meta name=\"referrer\" content=\"origin\"><meta name=\"viewport\" content=\"width=device-width, initial-scale=1.0\"><link rel=\"stylesheet\" type=\"text/css\" href=\"news.css?qgmUawbBF6R5AeIXHTFL\">\n",
      "        <link rel=\"shortcut icon\" href=\"favicon.ico\">\n",
      "          <link rel=\"alternate\" type=\"application/rss+xml\" title=\"RSS\" href=\"rss\">\n",
      "        <title>Hacker News</title></head><body><center><table id=\"hnmain\" border=\"0\" cellpadding=\"0\" cellspacing=\"0\" width=\"85%\" bgcolor=\"#f6f6ef\">\n",
      "        <tr><td bgcolor=\"#ff6600\"><table border=\"0\" cellpadding=\"0\" cellspacing=\"0\" width=\"100%\" style=\"padding:2px\"><tr><td style=\"width:18px;padding-right:4px\"><a href=\"https://news.ycombinator.com\"><img src=\"y18.gif\" width=\"18\" height=\"18\" style=\"border:1px white solid;\"></a></td>\n",
      "                  <td style=\"line-height:12pt; height:10px;\"><span class=\"pagetop\"><b class=\"hnname\"><a href=\"news\">Hacker News</a></b>\n",
      "              <a href=\"newest\">new</a> | <a href=\"front\">past</a> | <a href=\"newcomments\">comments</a> | <a href=\"ask\">ask</a> | <a href=\"show\">show</a> | <a href=\"jobs\">jobs</a> | <a href=\"submit\">submit</a>            </span></td><td style=\"text-align:right;padding-right:4px;\"><span class=\"pagetop\">\n",
      "                              <a href=\"login?goto=news\">login</a>\n",
      "                          </span></td>\n",
      "              </tr></table></td></tr>\n",
      "<tr id=\"pagespace\" title=\"\" style=\"height:10px\"></tr><tr><td><table border=\"0\" cellpadding=\"0\" cellspacing=\"0\" class=\"itemlist\">\n",
      "              <tr class='athing' id='23131559'>\n",
      "      <td align=\"right\" valign=\"top\" class=\"title\"><span class=\"rank\">1.</span></td>      <td valign=\"top\" class=\"votelinks\"><center><a id='up_23131559' href='vote?id=23131559&amp;how=up&amp;goto=news'><div class='votearrow' title='upvote'></div></a></center></td><td class=\"title\"><a href=\"https://vole.wtf/scunthorpe-sans/\" class=\"storylink\">Scunthorpe Sans – a self-censoring font</a><span class=\"sitebit comhead\"> (<a href=\"from?site=vole.wtf\"><span class=\"sitestr\">vole.wtf</span></a>)</span></td></tr><tr><td colspan=\"2\"></td><td class=\"subtext\">\n",
      "        <span class=\"score\" id=\"score_23131559\">196 points</span> by <a href=\"user?id=phoe-krk\" class=\"hnuser\">phoe-krk</a> <span class=\"age\"><a href=\"item?id=23131559\">3 hours ago</a></span> <span id=\"unv_23131559\"></span> | <a href=\"hide?id=23131559&amp;goto=news\">hide</a> | <a href=\"item?id=23131559\">80&nbsp;comments</a>              </td></tr>\n",
      "      <tr class=\"spacer\" style=\"height:5px\"></tr>\n",
      "                <tr class='athing' id='23129434'>\n",
      "      <td align=\"right\" valign=\"top\" class=\"title\"><span class=\"rank\">2.</span></td>      <td valign=\"top\" class=\"votelinks\"><center><a id='up_23129434' href='vote?id=23129434&amp;how=up&amp;goto=news'><div class='votearrow' title='upvote'></div></a></center></td><td class=\"title\"><a href=\"https://vistaserv.net/blog/90s-fonts-modern-browsers\" class=\"storylink\">Convincing-looking 90s fonts in modern browsers</a><span class=\"sitebit comhead\"> (<a href=\"from?site=vistaserv.net\"><span class=\"sitestr\">vistaserv.net</span></a>)</span></td></tr><tr><td colspan=\"2\"></td><td class=\"subtext\">\n",
      "        <span class=\"score\" id=\"score_23129434\">577 points</span> by <a href=\"user?id=hmhhcycbtsc557\" class=\"hnuser\">hmhhcycbtsc557</a> <span class=\"age\"><a href=\"item?id=23129434\">12 hours ago</a></span> <span id=\"unv_23129434\"></span> | <a href=\"hide?id=23129434&amp;goto=news\">hide</a> | <a href=\"item?id=23129434\">128&nbsp;comments</a>              </td></tr>\n",
      "      <tr class=\"spacer\" style=\"height:5px\"></tr>\n",
      "                <tr class='athing' id='23124266'>\n",
      "      <td align=\"right\" valign=\"top\" class=\"title\"><span class=\"rank\">3.</span></td>      <td valign=\"top\" class=\"votelinks\"><center><a id='up_23124266' href='vote?id=23124266&amp;how=up&amp;goto=news'><div class='votearrow' title='upvote'></div></a></center></td><td class=\"title\"><a href=\"https://eos.org/research-spotlights/how-long-was-venus-habitable#.XralmVMHBZM.twitter\" class=\"storylink\">How Long Was Venus Habitable?</a><span class=\"sitebit comhead\"> (<a href=\"from?site=eos.org\"><span class=\"sitestr\">eos.org</span></a>)</span></td></tr><tr><td colspan=\"2\"></td><td class=\"subtext\">\n",
      "        <span class=\"score\" id=\"score_23124266\">47 points</span> by <a href=\"user?id=rbanffy\" class=\"hnuser\">rbanffy</a> <span class=\"age\"><a href=\"item?id=23124266\">5 hours ago</a></span> <span id=\"unv_23124266\"></span> | <a href=\"hide?id=23124266&amp;goto=news\">hide</a> | <a href=\"item?id=23124266\">41&nbsp;comments</a>              </td></tr>\n",
      "      <tr class=\"spacer\" style=\"height:5px\"></tr>\n",
      "                <tr class='athing' id='23122529'>\n",
      "      <td align=\"right\" valign=\"top\" class=\"title\"><span class=\"rank\">4.</span></td>      <td valign=\"top\" class=\"votelinks\"><center><a id='up_23122529' href='vote?id=23122529&amp;how=up&amp;goto=news'><div class='votearrow' title='upvote'></div></a></center></td><td class=\"title\"><a href=\"https://carbon.now.sh/\" class=\"storylink\">Carbon: Create and share images of source code</a><span class=\"sitebit comhead\"> (<a href=\"from?site=now.sh\"><span class=\"sitestr\">now.sh</span></a>)</span></td></tr><tr><td colspan=\"2\"></td><td class=\"subtext\">\n",
      "        <span class=\"score\" id=\"score_23122529\">149 points</span> by <a href=\"user?id=polm23\" class=\"hnuser\">polm23</a> <span class=\"age\"><a href=\"item?id=23122529\">7 hours ago</a></span> <span id=\"unv_23122529\"></span> | <a href=\"hide?id=23122529&amp;goto=news\">hide</a> | <a href=\"item?id=23122529\">60&nbsp;comments</a>              </td></tr>\n",
      "      <tr class=\"spacer\" style=\"height:5px\"></tr>\n",
      "                <tr class='athing' id='23131526'>\n",
      "      <td align=\"right\" valign=\"top\" class=\"title\"><span class=\"rank\">5.</span></td>      <td valign=\"top\" class=\"votelinks\"><center><a id='up_23131526' href='vote?id=23131526&amp;how=up&amp;goto=news'><div class='votearrow' title='upvote'></div></a></center></td><td class=\"title\"><a href=\"https://www.economist.com/science-and-technology/2020/01/02/finding-new-physics-will-require-a-new-particle-collider\" class=\"storylink\">Finding new physics will require a new particle collider</a><span class=\"sitebit comhead\"> (<a href=\"from?site=economist.com\"><span class=\"sitestr\">economist.com</span></a>)</span></td></tr><tr><td colspan=\"2\"></td><td class=\"subtext\">\n",
      "        <span class=\"score\" id=\"score_23131526\">21 points</span> by <a href=\"user?id=seagullz\" class=\"hnuser\">seagullz</a> <span class=\"age\"><a href=\"item?id=23131526\">3 hours ago</a></span> <span id=\"unv_23131526\"></span> | <a href=\"hide?id=23131526&amp;goto=news\">hide</a> | <a href=\"item?id=23131526\">43&nbsp;comments</a>              </td></tr>\n",
      "      <tr class=\"spacer\" style=\"height:5px\"></tr>\n",
      "                <tr class='athing' id='23129891'>\n",
      "      <td align=\"right\" valign=\"top\" class=\"title\"><span class=\"rank\">6.</span></td>      <td valign=\"top\" class=\"votelinks\"><center><a id='up_23129891' href='vote?id=23129891&amp;how=up&amp;goto=news'><div class='votearrow' title='upvote'></div></a></center></td><td class=\"title\"><a href=\"http://h313.info/blog/aerospace/2020/05/09/an-analysis-of-the-lego-city-deep-space-rocket.html\" class=\"storylink\">An analysis of the Lego City deep space rocket</a><span class=\"sitebit comhead\"> (<a href=\"from?site=h313.info\"><span class=\"sitestr\">h313.info</span></a>)</span></td></tr><tr><td colspan=\"2\"></td><td class=\"subtext\">\n",
      "        <span class=\"score\" id=\"score_23129891\">134 points</span> by <a href=\"user?id=wh313\" class=\"hnuser\">wh313</a> <span class=\"age\"><a href=\"item?id=23129891\">10 hours ago</a></span> <span id=\"unv_23129891\"></span> | <a href=\"hide?id=23129891&amp;goto=news\">hide</a> | <a href=\"item?id=23129891\">55&nbsp;comments</a>              </td></tr>\n",
      "      <tr class=\"spacer\" style=\"height:5px\"></tr>\n",
      "                <tr class='athing' id='23130132'>\n",
      "      <td align=\"right\" valign=\"top\" class=\"title\"><span class=\"rank\">7.</span></td>      <td valign=\"top\" class=\"votelinks\"><center><a id='up_23130132' href='vote?id=23130132&amp;how=up&amp;goto=news'><div class='votearrow' title='upvote'></div></a></center></td><td class=\"title\"><a href=\"http://web.media.mit.edu/~minsky/papers/Why%20programming%20is--.html\" class=\"storylink\">Why Programming Is a Good Medium for Expressing Poorly Understood Ideas (1967)</a><span class=\"sitebit comhead\"> (<a href=\"from?site=mit.edu\"><span class=\"sitestr\">mit.edu</span></a>)</span></td></tr><tr><td colspan=\"2\"></td><td class=\"subtext\">\n",
      "        <span class=\"score\" id=\"score_23130132\">93 points</span> by <a href=\"user?id=kick\" class=\"hnuser\">kick</a> <span class=\"age\"><a href=\"item?id=23130132\">9 hours ago</a></span> <span id=\"unv_23130132\"></span> | <a href=\"hide?id=23130132&amp;goto=news\">hide</a> | <a href=\"item?id=23130132\">49&nbsp;comments</a>              </td></tr>\n",
      "      <tr class=\"spacer\" style=\"height:5px\"></tr>\n",
      "                <tr class='athing' id='23129089'>\n",
      "      <td align=\"right\" valign=\"top\" class=\"title\"><span class=\"rank\">8.</span></td>      <td valign=\"top\" class=\"votelinks\"><center><a id='up_23129089' href='vote?id=23129089&amp;how=up&amp;goto=news'><div class='votearrow' title='upvote'></div></a></center></td><td class=\"title\"><a href=\"http://www.righto.com/2020/05/tiny-transformer-inside-decapping.html\" class=\"storylink\">Tiny transformer inside: Decapping an isolated power transfer chip</a><span class=\"sitebit comhead\"> (<a href=\"from?site=righto.com\"><span class=\"sitestr\">righto.com</span></a>)</span></td></tr><tr><td colspan=\"2\"></td><td class=\"subtext\">\n",
      "        <span class=\"score\" id=\"score_23129089\">148 points</span> by <a href=\"user?id=sohkamyung\" class=\"hnuser\">sohkamyung</a> <span class=\"age\"><a href=\"item?id=23129089\">13 hours ago</a></span> <span id=\"unv_23129089\"></span> | <a href=\"hide?id=23129089&amp;goto=news\">hide</a> | <a href=\"item?id=23129089\">17&nbsp;comments</a>              </td></tr>\n",
      "      <tr class=\"spacer\" style=\"height:5px\"></tr>\n",
      "                <tr class='athing' id='23130104'>\n",
      "      <td align=\"right\" valign=\"top\" class=\"title\"><span class=\"rank\">9.</span></td>      <td valign=\"top\" class=\"votelinks\"><center><a id='up_23130104' href='vote?id=23130104&amp;how=up&amp;goto=news'><div class='votearrow' title='upvote'></div></a></center></td><td class=\"title\"><a href=\"https://sandyuraz.com/articles/orgmode-css/\" class=\"storylink\">Prettifying Org Mode with CSS</a><span class=\"sitebit comhead\"> (<a href=\"from?site=sandyuraz.com\"><span class=\"sitestr\">sandyuraz.com</span></a>)</span></td></tr><tr><td colspan=\"2\"></td><td class=\"subtext\">\n",
      "        <span class=\"score\" id=\"score_23130104\">120 points</span> by <a href=\"user?id=thecsw\" class=\"hnuser\">thecsw</a> <span class=\"age\"><a href=\"item?id=23130104\">9 hours ago</a></span> <span id=\"unv_23130104\"></span> | <a href=\"hide?id=23130104&amp;goto=news\">hide</a> | <a href=\"item?id=23130104\">34&nbsp;comments</a>              </td></tr>\n",
      "      <tr class=\"spacer\" style=\"height:5px\"></tr>\n",
      "                <tr class='athing' id='23131449'>\n",
      "      <td align=\"right\" valign=\"top\" class=\"title\"><span class=\"rank\">10.</span></td>      <td valign=\"top\" class=\"votelinks\"><center><a id='up_23131449' href='vote?id=23131449&amp;how=up&amp;goto=news'><div class='votearrow' title='upvote'></div></a></center></td><td class=\"title\"><a href=\"https://medium.com/teamzerolabs/5-aws-services-you-should-avoid-f45111cc10cd\" class=\"storylink\">AWS Services You Should Avoid</a><span class=\"sitebit comhead\"> (<a href=\"from?site=medium.com\"><span class=\"sitestr\">medium.com</span></a>)</span></td></tr><tr><td colspan=\"2\"></td><td class=\"subtext\">\n",
      "        <span class=\"score\" id=\"score_23131449\">100 points</span> by <a href=\"user?id=kiyanwang\" class=\"hnuser\">kiyanwang</a> <span class=\"age\"><a href=\"item?id=23131449\">3 hours ago</a></span> <span id=\"unv_23131449\"></span> | <a href=\"hide?id=23131449&amp;goto=news\">hide</a> | <a href=\"item?id=23131449\">39&nbsp;comments</a>              </td></tr>\n",
      "      <tr class=\"spacer\" style=\"height:5px\"></tr>\n",
      "                <tr class='athing' id='23122973'>\n",
      "      <td align=\"right\" valign=\"top\" class=\"title\"><span class=\"rank\">11.</span></td>      <td valign=\"top\" class=\"votelinks\"><center><a id='up_23122973' href='vote?id=23122973&amp;how=up&amp;goto=news'><div class='votearrow' title='upvote'></div></a></center></td><td class=\"title\"><a href=\"https://github.com/mukul-rathi/bolt\" class=\"storylink\">Show HN: Bolt: A research language with finer-grained concurrency than Rust</a><span class=\"sitebit comhead\"> (<a href=\"from?site=github.com\"><span class=\"sitestr\">github.com</span></a>)</span></td></tr><tr><td colspan=\"2\"></td><td class=\"subtext\">\n",
      "        <span class=\"score\" id=\"score_23122973\">73 points</span> by <a href=\"user?id=mrathi12\" class=\"hnuser\">mrathi12</a> <span class=\"age\"><a href=\"item?id=23122973\">10 hours ago</a></span> <span id=\"unv_23122973\"></span> | <a href=\"hide?id=23122973&amp;goto=news\">hide</a> | <a href=\"item?id=23122973\">16&nbsp;comments</a>              </td></tr>\n",
      "      <tr class=\"spacer\" style=\"height:5px\"></tr>\n",
      "                <tr class='athing' id='23131801'>\n",
      "      <td align=\"right\" valign=\"top\" class=\"title\"><span class=\"rank\">12.</span></td>      <td valign=\"top\" class=\"votelinks\"><center><a id='up_23131801' href='vote?id=23131801&amp;how=up&amp;goto=news'><div class='votearrow' title='upvote'></div></a></center></td><td class=\"title\"><a href=\"http://obsolescenceguaranteed.blogspot.com/2020/05/cloning-6502-apple-1-in-just-930-logic.html\" class=\"storylink\" rel=\"nofollow\">Cloning a 6502 Apple-1 in just 930 logic gates</a><span class=\"sitebit comhead\"> (<a href=\"from?site=obsolescenceguaranteed.blogspot.com\"><span class=\"sitestr\">obsolescenceguaranteed.blogspot.com</span></a>)</span></td></tr><tr><td colspan=\"2\"></td><td class=\"subtext\">\n",
      "        <span class=\"score\" id=\"score_23131801\">6 points</span> by <a href=\"user?id=gioele\" class=\"hnuser\">gioele</a> <span class=\"age\"><a href=\"item?id=23131801\">2 hours ago</a></span> <span id=\"unv_23131801\"></span> | <a href=\"hide?id=23131801&amp;goto=news\">hide</a> | <a href=\"item?id=23131801\">discuss</a>              </td></tr>\n",
      "      <tr class=\"spacer\" style=\"height:5px\"></tr>\n",
      "                <tr class='athing' id='23129309'>\n",
      "      <td align=\"right\" valign=\"top\" class=\"title\"><span class=\"rank\">13.</span></td>      <td valign=\"top\" class=\"votelinks\"><center><a id='up_23129309' href='vote?id=23129309&amp;how=up&amp;goto=news'><div class='votearrow' title='upvote'></div></a></center></td><td class=\"title\"><a href=\"https://turing.ml/dev/\" class=\"storylink\">Julia library for fast machine learning</a><span class=\"sitebit comhead\"> (<a href=\"from?site=turing.ml\"><span class=\"sitestr\">turing.ml</span></a>)</span></td></tr><tr><td colspan=\"2\"></td><td class=\"subtext\">\n",
      "        <span class=\"score\" id=\"score_23129309\">168 points</span> by <a href=\"user?id=todsacerdoti\" class=\"hnuser\">todsacerdoti</a> <span class=\"age\"><a href=\"item?id=23129309\">13 hours ago</a></span> <span id=\"unv_23129309\"></span> | <a href=\"hide?id=23129309&amp;goto=news\">hide</a> | <a href=\"item?id=23129309\">22&nbsp;comments</a>              </td></tr>\n",
      "      <tr class=\"spacer\" style=\"height:5px\"></tr>\n",
      "                <tr class='athing' id='23130053'>\n",
      "      <td align=\"right\" valign=\"top\" class=\"title\"><span class=\"rank\">14.</span></td>      <td valign=\"top\" class=\"votelinks\"><center><a id='up_23130053' href='vote?id=23130053&amp;how=up&amp;goto=news'><div class='votearrow' title='upvote'></div></a></center></td><td class=\"title\"><a href=\"https://github.com/FiloSottile/yubikey-agent\" class=\"storylink\">Show HN: Yubikey-agent – an easy to use Go ssh-agent for YubiKeys</a><span class=\"sitebit comhead\"> (<a href=\"from?site=github.com\"><span class=\"sitestr\">github.com</span></a>)</span></td></tr><tr><td colspan=\"2\"></td><td class=\"subtext\">\n",
      "        <span class=\"score\" id=\"score_23130053\">87 points</span> by <a href=\"user?id=FiloSottile\" class=\"hnuser\">FiloSottile</a> <span class=\"age\"><a href=\"item?id=23130053\">10 hours ago</a></span> <span id=\"unv_23130053\"></span> | <a href=\"hide?id=23130053&amp;goto=news\">hide</a> | <a href=\"item?id=23130053\">19&nbsp;comments</a>              </td></tr>\n",
      "      <tr class=\"spacer\" style=\"height:5px\"></tr>\n",
      "                <tr class='athing' id='23129682'>\n",
      "      <td align=\"right\" valign=\"top\" class=\"title\"><span class=\"rank\">15.</span></td>      <td valign=\"top\" class=\"votelinks\"><center><a id='up_23129682' href='vote?id=23129682&amp;how=up&amp;goto=news'><div class='votearrow' title='upvote'></div></a></center></td><td class=\"title\"><a href=\"https://www.faqforge.com/windows/windows-10/how-to-disable-all-of-the-built-in-windows-10-ads/\" class=\"storylink\">How to disable the built-in Windows 10 ads</a><span class=\"sitebit comhead\"> (<a href=\"from?site=faqforge.com\"><span class=\"sitestr\">faqforge.com</span></a>)</span></td></tr><tr><td colspan=\"2\"></td><td class=\"subtext\">\n",
      "        <span class=\"score\" id=\"score_23129682\">90 points</span> by <a href=\"user?id=miles\" class=\"hnuser\">miles</a> <span class=\"age\"><a href=\"item?id=23129682\">11 hours ago</a></span> <span id=\"unv_23129682\"></span> | <a href=\"hide?id=23129682&amp;goto=news\">hide</a> | <a href=\"item?id=23129682\">40&nbsp;comments</a>              </td></tr>\n",
      "      <tr class=\"spacer\" style=\"height:5px\"></tr>\n",
      "                <tr class='athing' id='23123088'>\n",
      "      <td align=\"right\" valign=\"top\" class=\"title\"><span class=\"rank\">16.</span></td>      <td valign=\"top\" class=\"votelinks\"><center><a id='up_23123088' href='vote?id=23123088&amp;how=up&amp;goto=news'><div class='votearrow' title='upvote'></div></a></center></td><td class=\"title\"><a href=\"https://onezero.medium.com/the-case-for-stanislaw-lem-one-of-science-fictions-unsung-giants-94aee43db04f\" class=\"storylink\">The Case for Stanislaw Lem</a><span class=\"sitebit comhead\"> (<a href=\"from?site=onezero.medium.com\"><span class=\"sitestr\">onezero.medium.com</span></a>)</span></td></tr><tr><td colspan=\"2\"></td><td class=\"subtext\">\n",
      "        <span class=\"score\" id=\"score_23123088\">119 points</span> by <a href=\"user?id=Schiphol\" class=\"hnuser\">Schiphol</a> <span class=\"age\"><a href=\"item?id=23123088\">14 hours ago</a></span> <span id=\"unv_23123088\"></span> | <a href=\"hide?id=23123088&amp;goto=news\">hide</a> | <a href=\"item?id=23123088\">44&nbsp;comments</a>              </td></tr>\n",
      "      <tr class=\"spacer\" style=\"height:5px\"></tr>\n",
      "                <tr class='athing' id='23128518'>\n",
      "      <td align=\"right\" valign=\"top\" class=\"title\"><span class=\"rank\">17.</span></td>      <td valign=\"top\" class=\"votelinks\"><center><a id='up_23128518' href='vote?id=23128518&amp;how=up&amp;goto=news'><div class='votearrow' title='upvote'></div></a></center></td><td class=\"title\"><a href=\"https://godotengine.org/article/godot-40-will-get-new-modernized-lightmapper\" class=\"storylink\">Godot 4.0 will get a new lightmapper</a><span class=\"sitebit comhead\"> (<a href=\"from?site=godotengine.org\"><span class=\"sitestr\">godotengine.org</span></a>)</span></td></tr><tr><td colspan=\"2\"></td><td class=\"subtext\">\n",
      "        <span class=\"score\" id=\"score_23128518\">360 points</span> by <a href=\"user?id=todsacerdoti\" class=\"hnuser\">todsacerdoti</a> <span class=\"age\"><a href=\"item?id=23128518\">15 hours ago</a></span> <span id=\"unv_23128518\"></span> | <a href=\"hide?id=23128518&amp;goto=news\">hide</a> | <a href=\"item?id=23128518\">100&nbsp;comments</a>              </td></tr>\n",
      "      <tr class=\"spacer\" style=\"height:5px\"></tr>\n",
      "                <tr class='athing' id='23128787'>\n",
      "      <td align=\"right\" valign=\"top\" class=\"title\"><span class=\"rank\">18.</span></td>      <td valign=\"top\" class=\"votelinks\"><center><a id='up_23128787' href='vote?id=23128787&amp;how=up&amp;goto=news'><div class='votearrow' title='upvote'></div></a></center></td><td class=\"title\"><a href=\"https://www.micahlerner.com/2020/05/08/understanding-raft-consensus.html\" class=\"storylink\">Understanding Raft Consensus</a><span class=\"sitebit comhead\"> (<a href=\"from?site=micahlerner.com\"><span class=\"sitestr\">micahlerner.com</span></a>)</span></td></tr><tr><td colspan=\"2\"></td><td class=\"subtext\">\n",
      "        <span class=\"score\" id=\"score_23128787\">80 points</span> by <a href=\"user?id=mlerner\" class=\"hnuser\">mlerner</a> <span class=\"age\"><a href=\"item?id=23128787\">14 hours ago</a></span> <span id=\"unv_23128787\"></span> | <a href=\"hide?id=23128787&amp;goto=news\">hide</a> | <a href=\"item?id=23128787\">2&nbsp;comments</a>              </td></tr>\n",
      "      <tr class=\"spacer\" style=\"height:5px\"></tr>\n",
      "                <tr class='athing' id='23130156'>\n",
      "      <td align=\"right\" valign=\"top\" class=\"title\"><span class=\"rank\">19.</span></td>      <td valign=\"top\" class=\"votelinks\"><center><a id='up_23130156' href='vote?id=23130156&amp;how=up&amp;goto=news'><div class='votearrow' title='upvote'></div></a></center></td><td class=\"title\"><a href=\"https://claremontreviewofbooks.com/our-bookless-future/\" class=\"storylink\">Our Bookless Future</a><span class=\"sitebit comhead\"> (<a href=\"from?site=claremontreviewofbooks.com\"><span class=\"sitestr\">claremontreviewofbooks.com</span></a>)</span></td></tr><tr><td colspan=\"2\"></td><td class=\"subtext\">\n",
      "        <span class=\"score\" id=\"score_23130156\">84 points</span> by <a href=\"user?id=jseliger\" class=\"hnuser\">jseliger</a> <span class=\"age\"><a href=\"item?id=23130156\">9 hours ago</a></span> <span id=\"unv_23130156\"></span> | <a href=\"hide?id=23130156&amp;goto=news\">hide</a> | <a href=\"item?id=23130156\">68&nbsp;comments</a>              </td></tr>\n",
      "      <tr class=\"spacer\" style=\"height:5px\"></tr>\n",
      "                <tr class='athing' id='23128379'>\n",
      "      <td align=\"right\" valign=\"top\" class=\"title\"><span class=\"rank\">20.</span></td>      <td valign=\"top\" class=\"votelinks\"><center><a id='up_23128379' href='vote?id=23128379&amp;how=up&amp;goto=news'><div class='votearrow' title='upvote'></div></a></center></td><td class=\"title\"><a href=\"https://twitter.com/samykamkar/status/1259173832620830722\" class=\"storylink\">Iridescent Tempered Chocolate</a><span class=\"sitebit comhead\"> (<a href=\"from?site=twitter.com\"><span class=\"sitestr\">twitter.com</span></a>)</span></td></tr><tr><td colspan=\"2\"></td><td class=\"subtext\">\n",
      "        <span class=\"score\" id=\"score_23128379\">271 points</span> by <a href=\"user?id=weinzierl\" class=\"hnuser\">weinzierl</a> <span class=\"age\"><a href=\"item?id=23128379\">16 hours ago</a></span> <span id=\"unv_23128379\"></span> | <a href=\"hide?id=23128379&amp;goto=news\">hide</a> | <a href=\"item?id=23128379\">26&nbsp;comments</a>              </td></tr>\n",
      "      <tr class=\"spacer\" style=\"height:5px\"></tr>\n",
      "                <tr class='athing' id='23126458'>\n",
      "      <td align=\"right\" valign=\"top\" class=\"title\"><span class=\"rank\">21.</span></td>      <td valign=\"top\" class=\"votelinks\"><center><a id='up_23126458' href='vote?id=23126458&amp;how=up&amp;goto=news'><div class='votearrow' title='upvote'></div></a></center></td><td class=\"title\"><a href=\"https://github.com/rxi/lite\" class=\"storylink\">Show HN: Lite – A small, fast text editor</a><span class=\"sitebit comhead\"> (<a href=\"from?site=github.com\"><span class=\"sitestr\">github.com</span></a>)</span></td></tr><tr><td colspan=\"2\"></td><td class=\"subtext\">\n",
      "        <span class=\"score\" id=\"score_23126458\">537 points</span> by <a href=\"user?id=rxi\" class=\"hnuser\">rxi</a> <span class=\"age\"><a href=\"item?id=23126458\">20 hours ago</a></span> <span id=\"unv_23126458\"></span> | <a href=\"hide?id=23126458&amp;goto=news\">hide</a> | <a href=\"item?id=23126458\">239&nbsp;comments</a>              </td></tr>\n",
      "      <tr class=\"spacer\" style=\"height:5px\"></tr>\n",
      "                <tr class='athing' id='23119154'>\n",
      "      <td align=\"right\" valign=\"top\" class=\"title\"><span class=\"rank\">22.</span></td>      <td valign=\"top\" class=\"votelinks\"><center><a id='up_23119154' href='vote?id=23119154&amp;how=up&amp;goto=news'><div class='votearrow' title='upvote'></div></a></center></td><td class=\"title\"><a href=\"https://rauchg.com/2020/static-hoisting\" class=\"storylink\">Static Hoisting</a><span class=\"sitebit comhead\"> (<a href=\"from?site=rauchg.com\"><span class=\"sitestr\">rauchg.com</span></a>)</span></td></tr><tr><td colspan=\"2\"></td><td class=\"subtext\">\n",
      "        <span class=\"score\" id=\"score_23119154\">56 points</span> by <a href=\"user?id=gk1\" class=\"hnuser\">gk1</a> <span class=\"age\"><a href=\"item?id=23119154\">13 hours ago</a></span> <span id=\"unv_23119154\"></span> | <a href=\"hide?id=23119154&amp;goto=news\">hide</a> | <a href=\"item?id=23119154\">6&nbsp;comments</a>              </td></tr>\n",
      "      <tr class=\"spacer\" style=\"height:5px\"></tr>\n",
      "                <tr class='athing' id='23124786'>\n",
      "      <td align=\"right\" valign=\"top\" class=\"title\"><span class=\"rank\">23.</span></td>      <td valign=\"top\" class=\"votelinks\"><center><a id='up_23124786' href='vote?id=23124786&amp;how=up&amp;goto=news'><div class='votearrow' title='upvote'></div></a></center></td><td class=\"title\"><a href=\"https://github.com/yemount/pose-animator/\" class=\"storylink\">Pose Animator: SVG animation tool using real-time TensorFlow.js models</a><span class=\"sitebit comhead\"> (<a href=\"from?site=github.com\"><span class=\"sitestr\">github.com</span></a>)</span></td></tr><tr><td colspan=\"2\"></td><td class=\"subtext\">\n",
      "        <span class=\"score\" id=\"score_23124786\">659 points</span> by <a href=\"user?id=hardmaru\" class=\"hnuser\">hardmaru</a> <span class=\"age\"><a href=\"item?id=23124786\">23 hours ago</a></span> <span id=\"unv_23124786\"></span> | <a href=\"hide?id=23124786&amp;goto=news\">hide</a> | <a href=\"item?id=23124786\">68&nbsp;comments</a>              </td></tr>\n",
      "      <tr class=\"spacer\" style=\"height:5px\"></tr>\n",
      "                <tr class='athing' id='23124022'>\n",
      "      <td align=\"right\" valign=\"top\" class=\"title\"><span class=\"rank\">24.</span></td>      <td valign=\"top\" class=\"votelinks\"><center><a id='up_23124022' href='vote?id=23124022&amp;how=up&amp;goto=news'><div class='votearrow' title='upvote'></div></a></center></td><td class=\"title\"><a href=\"https://shkspr.mobi/blog/2020/05/autograph-hunting-in-companies-house/\" class=\"storylink\">Autograph hunting in Companies House</a><span class=\"sitebit comhead\"> (<a href=\"from?site=shkspr.mobi\"><span class=\"sitestr\">shkspr.mobi</span></a>)</span></td></tr><tr><td colspan=\"2\"></td><td class=\"subtext\">\n",
      "        <span class=\"score\" id=\"score_23124022\">43 points</span> by <a href=\"user?id=edent\" class=\"hnuser\">edent</a> <span class=\"age\"><a href=\"item?id=23124022\">10 hours ago</a></span> <span id=\"unv_23124022\"></span> | <a href=\"hide?id=23124022&amp;goto=news\">hide</a> | <a href=\"item?id=23124022\">14&nbsp;comments</a>              </td></tr>\n",
      "      <tr class=\"spacer\" style=\"height:5px\"></tr>\n",
      "                <tr class='athing' id='23129942'>\n",
      "      <td align=\"right\" valign=\"top\" class=\"title\"><span class=\"rank\">25.</span></td>      <td valign=\"top\" class=\"votelinks\"><center><a id='up_23129942' href='vote?id=23129942&amp;how=up&amp;goto=news'><div class='votearrow' title='upvote'></div></a></center></td><td class=\"title\"><a href=\"https://www.tesla.com/blog/getting-back-work\" class=\"storylink\">Getting Back to Work</a><span class=\"sitebit comhead\"> (<a href=\"from?site=tesla.com\"><span class=\"sitestr\">tesla.com</span></a>)</span></td></tr><tr><td colspan=\"2\"></td><td class=\"subtext\">\n",
      "        <span class=\"score\" id=\"score_23129942\">123 points</span> by <a href=\"user?id=xoxoy\" class=\"hnuser\">xoxoy</a> <span class=\"age\"><a href=\"item?id=23129942\">10 hours ago</a></span> <span id=\"unv_23129942\"></span> | <a href=\"hide?id=23129942&amp;goto=news\">hide</a> | <a href=\"item?id=23129942\">131&nbsp;comments</a>              </td></tr>\n",
      "      <tr class=\"spacer\" style=\"height:5px\"></tr>\n",
      "                <tr class='athing' id='23127979'>\n",
      "      <td align=\"right\" valign=\"top\" class=\"title\"><span class=\"rank\">26.</span></td>      <td valign=\"top\" class=\"votelinks\"><center><a id='up_23127979' href='vote?id=23127979&amp;how=up&amp;goto=news'><div class='votearrow' title='upvote'></div></a></center></td><td class=\"title\"><a href=\"https://docs.google.com/spreadsheets/d/1TmjD2mLXJAqGnblB_lMOWVtdvddxsxyw52pnt0Kt2hQ/edit#gid=0\" class=\"storylink\">Elliot Virtual Mall</a><span class=\"sitebit comhead\"> (<a href=\"from?site=docs.google.com\"><span class=\"sitestr\">docs.google.com</span></a>)</span></td></tr><tr><td colspan=\"2\"></td><td class=\"subtext\">\n",
      "        <span class=\"score\" id=\"score_23127979\">48 points</span> by <a href=\"user?id=ohaikbai\" class=\"hnuser\">ohaikbai</a> <span class=\"age\"><a href=\"item?id=23127979\">10 hours ago</a></span> <span id=\"unv_23127979\"></span> | <a href=\"hide?id=23127979&amp;goto=news\">hide</a> | <a href=\"item?id=23127979\">7&nbsp;comments</a>              </td></tr>\n",
      "      <tr class=\"spacer\" style=\"height:5px\"></tr>\n",
      "                <tr class='athing' id='23126455'>\n",
      "      <td align=\"right\" valign=\"top\" class=\"title\"><span class=\"rank\">27.</span></td>      <td valign=\"top\" class=\"votelinks\"><center><a id='up_23126455' href='vote?id=23126455&amp;how=up&amp;goto=news'><div class='votearrow' title='upvote'></div></a></center></td><td class=\"title\"><a href=\"https://kamerontanseli.ghost.io/first-it-was-craiglist-next-its-zapier/\" class=\"storylink\">First, it was Craigslist, next it's Zapier</a><span class=\"sitebit comhead\"> (<a href=\"from?site=ghost.io\"><span class=\"sitestr\">ghost.io</span></a>)</span></td></tr><tr><td colspan=\"2\"></td><td class=\"subtext\">\n",
      "        <span class=\"score\" id=\"score_23126455\">368 points</span> by <a href=\"user?id=kamerontanseli\" class=\"hnuser\">kamerontanseli</a> <span class=\"age\"><a href=\"item?id=23126455\">20 hours ago</a></span> <span id=\"unv_23126455\"></span> | <a href=\"hide?id=23126455&amp;goto=news\">hide</a> | <a href=\"item?id=23126455\">108&nbsp;comments</a>              </td></tr>\n",
      "      <tr class=\"spacer\" style=\"height:5px\"></tr>\n",
      "                <tr class='athing' id='23128321'>\n",
      "      <td align=\"right\" valign=\"top\" class=\"title\"><span class=\"rank\">28.</span></td>      <td valign=\"top\" class=\"votelinks\"><center><a id='up_23128321' href='vote?id=23128321&amp;how=up&amp;goto=news'><div class='votearrow' title='upvote'></div></a></center></td><td class=\"title\"><a href=\"https://kevin.burke.dev/kevin/ask-questions-during-interviews/?hn\" class=\"storylink\">If someone asks if you have any questions, ask a question</a><span class=\"sitebit comhead\"> (<a href=\"from?site=burke.dev\"><span class=\"sitestr\">burke.dev</span></a>)</span></td></tr><tr><td colspan=\"2\"></td><td class=\"subtext\">\n",
      "        <span class=\"score\" id=\"score_23128321\">178 points</span> by <a href=\"user?id=kevinburke\" class=\"hnuser\">kevinburke</a> <span class=\"age\"><a href=\"item?id=23128321\">16 hours ago</a></span> <span id=\"unv_23128321\"></span> | <a href=\"hide?id=23128321&amp;goto=news\">hide</a> | <a href=\"item?id=23128321\">115&nbsp;comments</a>              </td></tr>\n",
      "      <tr class=\"spacer\" style=\"height:5px\"></tr>\n",
      "                <tr class='athing' id='23109288'>\n",
      "      <td align=\"right\" valign=\"top\" class=\"title\"><span class=\"rank\">29.</span></td>      <td valign=\"top\" class=\"votelinks\"><center><a id='up_23109288' href='vote?id=23109288&amp;how=up&amp;goto=news'><div class='votearrow' title='upvote'></div></a></center></td><td class=\"title\"><a href=\"https://www.cs.fsu.edu/~awang/courses/cop5611_s2004/spring.pdf\" class=\"storylink\">An Overview of the Spring System (1994) [pdf]</a><span class=\"sitebit comhead\"> (<a href=\"from?site=fsu.edu\"><span class=\"sitestr\">fsu.edu</span></a>)</span></td></tr><tr><td colspan=\"2\"></td><td class=\"subtext\">\n",
      "        <span class=\"score\" id=\"score_23109288\">24 points</span> by <a href=\"user?id=kick\" class=\"hnuser\">kick</a> <span class=\"age\"><a href=\"item?id=23109288\">11 hours ago</a></span> <span id=\"unv_23109288\"></span> | <a href=\"hide?id=23109288&amp;goto=news\">hide</a> | <a href=\"item?id=23109288\">4&nbsp;comments</a>              </td></tr>\n",
      "      <tr class=\"spacer\" style=\"height:5px\"></tr>\n",
      "                <tr class='athing' id='23125106'>\n",
      "      <td align=\"right\" valign=\"top\" class=\"title\"><span class=\"rank\">30.</span></td>      <td valign=\"top\" class=\"votelinks\"><center><a id='up_23125106' href='vote?id=23125106&amp;how=up&amp;goto=news'><div class='votearrow' title='upvote'></div></a></center></td><td class=\"title\"><a href=\"https://www.theguardian.com/music/2020/may/09/little-richard-dies-aged-83-rock-n-roll-pioneer\" class=\"storylink\">Little Richard has died</a><span class=\"sitebit comhead\"> (<a href=\"from?site=theguardian.com\"><span class=\"sitestr\">theguardian.com</span></a>)</span></td></tr><tr><td colspan=\"2\"></td><td class=\"subtext\">\n",
      "        <span class=\"score\" id=\"score_23125106\">274 points</span> by <a href=\"user?id=coloneltcb\" class=\"hnuser\">coloneltcb</a> <span class=\"age\"><a href=\"item?id=23125106\">22 hours ago</a></span> <span id=\"unv_23125106\"></span> | <a href=\"hide?id=23125106&amp;goto=news\">hide</a> | <a href=\"item?id=23125106\">51&nbsp;comments</a>              </td></tr>\n",
      "      <tr class=\"spacer\" style=\"height:5px\"></tr>\n",
      "            <tr class=\"morespace\" style=\"height:10px\"></tr><tr><td colspan=\"2\"></td><td class=\"title\"><a href=\"news?p=2\" class=\"morelink\" rel=\"next\">More</a></td></tr>\n",
      "  </table>\n",
      "</td></tr>\n",
      "<tr><td><img src=\"s.gif\" height=\"10\" width=\"0\"><table width=\"100%\" cellspacing=\"0\" cellpadding=\"1\"><tr><td bgcolor=\"#ff6600\"></td></tr></table><br><center><span class=\"yclinks\"><a href=\"newsguidelines.html\">Guidelines</a>\n",
      "        | <a href=\"newsfaq.html\">FAQ</a>\n",
      "        | <a href=\"mailto:hn@ycombinator.com\">Support</a>\n",
      "        | <a href=\"https://github.com/HackerNews/API\">API</a>\n",
      "        | <a href=\"security.html\">Security</a>\n",
      "        | <a href=\"lists\">Lists</a>\n",
      "        | <a href=\"bookmarklet.html\" rel=\"nofollow\">Bookmarklet</a>\n",
      "        | <a href=\"http://www.ycombinator.com/legal/\">Legal</a>\n",
      "        | <a href=\"http://www.ycombinator.com/apply/\">Apply to YC</a>\n",
      "        | <a href=\"mailto:hn@ycombinator.com\">Contact</a></span><br><br><form method=\"get\" action=\"//hn.algolia.com/\">Search:\n",
      "          <input type=\"text\" name=\"q\" value=\"\" size=\"17\" autocorrect=\"off\" spellcheck=\"false\" autocapitalize=\"off\" autocomplete=\"false\"></form>\n",
      "            </center></td></tr>\n",
      "      </table></center></body><script type='text/javascript' src='hn.js?qgmUawbBF6R5AeIXHTFL'></script></html>\n",
      "\n"
     ]
    }
   ],
   "source": [
    "import requests\n",
    "\n",
    "# Fetch a web page\n",
    "r = requests.get(\"https://news.ycombinator.com\")\n",
    "print(r.text)"
   ]
  },
  {
   "cell_type": "code",
   "execution_count": 5,
   "metadata": {},
   "outputs": [
    {
     "name": "stdout",
     "output_type": "stream",
     "text": [
      "\n",
      "        \n",
      "          \n",
      "        Hacker News\n",
      "        \n",
      "                  Hacker News\n",
      "              new | past | comments | ask | show | jobs | submit            \n",
      "                              login\n",
      "                          \n",
      "              \n",
      "\n",
      "              \n",
      "      1.      Scunthorpe Sans – a self-censoring font (vole.wtf)\n",
      "        196 points by phoe-krk 3 hours ago  | hide | 80&nbsp;comments              \n",
      "      \n",
      "                \n",
      "      2.      Convincing-looking 90s fonts in modern browsers (vistaserv.net)\n",
      "        577 points by hmhhcycbtsc557 12 hours ago  | hide | 128&nbsp;comments              \n",
      "      \n",
      "                \n",
      "      3.      How Long Was Venus Habitable? (eos.org)\n",
      "        47 points by rbanffy 5 hours ago  | hide | 41&nbsp;comments              \n",
      "      \n",
      "                \n",
      "      4.      Carbon: Create and share images of source code (now.sh)\n",
      "        149 points by polm23 7 hours ago  | hide | 60&nbsp;comments              \n",
      "      \n",
      "                \n",
      "      5.      Finding new physics will require a new particle collider (economist.com)\n",
      "        21 points by seagullz 3 hours ago  | hide | 43&nbsp;comments              \n",
      "      \n",
      "                \n",
      "      6.      An analysis of the Lego City deep space rocket (h313.info)\n",
      "        134 points by wh313 10 hours ago  | hide | 55&nbsp;comments              \n",
      "      \n",
      "                \n",
      "      7.      Why Programming Is a Good Medium for Expressing Poorly Understood Ideas (1967) (mit.edu)\n",
      "        93 points by kick 9 hours ago  | hide | 49&nbsp;comments              \n",
      "      \n",
      "                \n",
      "      8.      Tiny transformer inside: Decapping an isolated power transfer chip (righto.com)\n",
      "        148 points by sohkamyung 13 hours ago  | hide | 17&nbsp;comments              \n",
      "      \n",
      "                \n",
      "      9.      Prettifying Org Mode with CSS (sandyuraz.com)\n",
      "        120 points by thecsw 9 hours ago  | hide | 34&nbsp;comments              \n",
      "      \n",
      "                \n",
      "      10.      AWS Services You Should Avoid (medium.com)\n",
      "        100 points by kiyanwang 3 hours ago  | hide | 39&nbsp;comments              \n",
      "      \n",
      "                \n",
      "      11.      Show HN: Bolt: A research language with finer-grained concurrency than Rust (github.com)\n",
      "        73 points by mrathi12 10 hours ago  | hide | 16&nbsp;comments              \n",
      "      \n",
      "                \n",
      "      12.      Cloning a 6502 Apple-1 in just 930 logic gates (obsolescenceguaranteed.blogspot.com)\n",
      "        6 points by gioele 2 hours ago  | hide | discuss              \n",
      "      \n",
      "                \n",
      "      13.      Julia library for fast machine learning (turing.ml)\n",
      "        168 points by todsacerdoti 13 hours ago  | hide | 22&nbsp;comments              \n",
      "      \n",
      "                \n",
      "      14.      Show HN: Yubikey-agent – an easy to use Go ssh-agent for YubiKeys (github.com)\n",
      "        87 points by FiloSottile 10 hours ago  | hide | 19&nbsp;comments              \n",
      "      \n",
      "                \n",
      "      15.      How to disable the built-in Windows 10 ads (faqforge.com)\n",
      "        90 points by miles 11 hours ago  | hide | 40&nbsp;comments              \n",
      "      \n",
      "                \n",
      "      16.      The Case for Stanislaw Lem (onezero.medium.com)\n",
      "        119 points by Schiphol 14 hours ago  | hide | 44&nbsp;comments              \n",
      "      \n",
      "                \n",
      "      17.      Godot 4.0 will get a new lightmapper (godotengine.org)\n",
      "        360 points by todsacerdoti 15 hours ago  | hide | 100&nbsp;comments              \n",
      "      \n",
      "                \n",
      "      18.      Understanding Raft Consensus (micahlerner.com)\n",
      "        80 points by mlerner 14 hours ago  | hide | 2&nbsp;comments              \n",
      "      \n",
      "                \n",
      "      19.      Our Bookless Future (claremontreviewofbooks.com)\n",
      "        84 points by jseliger 9 hours ago  | hide | 68&nbsp;comments              \n",
      "      \n",
      "                \n",
      "      20.      Iridescent Tempered Chocolate (twitter.com)\n",
      "        271 points by weinzierl 16 hours ago  | hide | 26&nbsp;comments              \n",
      "      \n",
      "                \n",
      "      21.      Show HN: Lite – A small, fast text editor (github.com)\n",
      "        537 points by rxi 20 hours ago  | hide | 239&nbsp;comments              \n",
      "      \n",
      "                \n",
      "      22.      Static Hoisting (rauchg.com)\n",
      "        56 points by gk1 13 hours ago  | hide | 6&nbsp;comments              \n",
      "      \n",
      "                \n",
      "      23.      Pose Animator: SVG animation tool using real-time TensorFlow.js models (github.com)\n",
      "        659 points by hardmaru 23 hours ago  | hide | 68&nbsp;comments              \n",
      "      \n",
      "                \n",
      "      24.      Autograph hunting in Companies House (shkspr.mobi)\n",
      "        43 points by edent 10 hours ago  | hide | 14&nbsp;comments              \n",
      "      \n",
      "                \n",
      "      25.      Getting Back to Work (tesla.com)\n",
      "        123 points by xoxoy 10 hours ago  | hide | 131&nbsp;comments              \n",
      "      \n",
      "                \n",
      "      26.      Elliot Virtual Mall (docs.google.com)\n",
      "        48 points by ohaikbai 10 hours ago  | hide | 7&nbsp;comments              \n",
      "      \n",
      "                \n",
      "      27.      First, it was Craigslist, next it's Zapier (ghost.io)\n",
      "        368 points by kamerontanseli 20 hours ago  | hide | 108&nbsp;comments              \n",
      "      \n",
      "                \n",
      "      28.      If someone asks if you have any questions, ask a question (burke.dev)\n",
      "        178 points by kevinburke 16 hours ago  | hide | 115&nbsp;comments              \n",
      "      \n",
      "                \n",
      "      29.      An Overview of the Spring System (1994) [pdf] (fsu.edu)\n",
      "        24 points by kick 11 hours ago  | hide | 4&nbsp;comments              \n",
      "      \n",
      "                \n",
      "      30.      Little Richard has died (theguardian.com)\n",
      "        274 points by coloneltcb 22 hours ago  | hide | 51&nbsp;comments              \n",
      "      \n",
      "            More\n",
      "  \n",
      "\n",
      "Guidelines\n",
      "        | FAQ\n",
      "        | Support\n",
      "        | API\n",
      "        | Security\n",
      "        | Lists\n",
      "        | Bookmarklet\n",
      "        | Legal\n",
      "        | Apply to YC\n",
      "        | ContactSearch:\n",
      "          \n",
      "            \n",
      "      \n",
      "\n"
     ]
    }
   ],
   "source": [
    "import re\n",
    "\n",
    "# Remove HTML tags using RegEx\n",
    "pattern = re.compile(r'<.*?>')  # tags look like <...>\n",
    "print(pattern.sub('', r.text))  # replace them with blank"
   ]
  },
  {
   "cell_type": "code",
   "execution_count": 6,
   "metadata": {},
   "outputs": [
    {
     "name": "stdout",
     "output_type": "stream",
     "text": [
      "\n",
      "        \n",
      "          \n",
      "        Hacker News\n",
      "        \n",
      "                  Hacker News\n",
      "              new | past | comments | ask | show | jobs | submit            \n",
      "                              login\n",
      "                          \n",
      "              \n",
      "\n",
      "              \n",
      "      1.      Scunthorpe Sans – a self-censoring font (vole.wtf)\n",
      "        196 points by phoe-krk 3 hours ago  | hide | 80 comments              \n",
      "      \n",
      "                \n",
      "      2.      Convincing-looking 90s fonts in modern browsers (vistaserv.net)\n",
      "        577 points by hmhhcycbtsc557 12 hours ago  | hide | 128 comments              \n",
      "      \n",
      "                \n",
      "      3.      How Long Was Venus Habitable? (eos.org)\n",
      "        47 points by rbanffy 5 hours ago  | hide | 41 comments              \n",
      "      \n",
      "                \n",
      "      4.      Carbon: Create and share images of source code (now.sh)\n",
      "        149 points by polm23 7 hours ago  | hide | 60 comments              \n",
      "      \n",
      "                \n",
      "      5.      Finding new physics will require a new particle collider (economist.com)\n",
      "        21 points by seagullz 3 hours ago  | hide | 43 comments              \n",
      "      \n",
      "                \n",
      "      6.      An analysis of the Lego City deep space rocket (h313.info)\n",
      "        134 points by wh313 10 hours ago  | hide | 55 comments              \n",
      "      \n",
      "                \n",
      "      7.      Why Programming Is a Good Medium for Expressing Poorly Understood Ideas (1967) (mit.edu)\n",
      "        93 points by kick 9 hours ago  | hide | 49 comments              \n",
      "      \n",
      "                \n",
      "      8.      Tiny transformer inside: Decapping an isolated power transfer chip (righto.com)\n",
      "        148 points by sohkamyung 13 hours ago  | hide | 17 comments              \n",
      "      \n",
      "                \n",
      "      9.      Prettifying Org Mode with CSS (sandyuraz.com)\n",
      "        120 points by thecsw 9 hours ago  | hide | 34 comments              \n",
      "      \n",
      "                \n",
      "      10.      AWS Services You Should Avoid (medium.com)\n",
      "        100 points by kiyanwang 3 hours ago  | hide | 39 comments              \n",
      "      \n",
      "                \n",
      "      11.      Show HN: Bolt: A research language with finer-grained concurrency than Rust (github.com)\n",
      "        73 points by mrathi12 10 hours ago  | hide | 16 comments              \n",
      "      \n",
      "                \n",
      "      12.      Cloning a 6502 Apple-1 in just 930 logic gates (obsolescenceguaranteed.blogspot.com)\n",
      "        6 points by gioele 2 hours ago  | hide | discuss              \n",
      "      \n",
      "                \n",
      "      13.      Julia library for fast machine learning (turing.ml)\n",
      "        168 points by todsacerdoti 13 hours ago  | hide | 22 comments              \n",
      "      \n",
      "                \n",
      "      14.      Show HN: Yubikey-agent – an easy to use Go ssh-agent for YubiKeys (github.com)\n",
      "        87 points by FiloSottile 10 hours ago  | hide | 19 comments              \n",
      "      \n",
      "                \n",
      "      15.      How to disable the built-in Windows 10 ads (faqforge.com)\n",
      "        90 points by miles 11 hours ago  | hide | 40 comments              \n",
      "      \n",
      "                \n",
      "      16.      The Case for Stanislaw Lem (onezero.medium.com)\n",
      "        119 points by Schiphol 14 hours ago  | hide | 44 comments              \n",
      "      \n",
      "                \n",
      "      17.      Godot 4.0 will get a new lightmapper (godotengine.org)\n",
      "        360 points by todsacerdoti 15 hours ago  | hide | 100 comments              \n",
      "      \n",
      "                \n",
      "      18.      Understanding Raft Consensus (micahlerner.com)\n",
      "        80 points by mlerner 14 hours ago  | hide | 2 comments              \n",
      "      \n",
      "                \n",
      "      19.      Our Bookless Future (claremontreviewofbooks.com)\n",
      "        84 points by jseliger 9 hours ago  | hide | 68 comments              \n",
      "      \n",
      "                \n",
      "      20.      Iridescent Tempered Chocolate (twitter.com)\n",
      "        271 points by weinzierl 16 hours ago  | hide | 26 comments              \n",
      "      \n",
      "                \n",
      "      21.      Show HN: Lite – A small, fast text editor (github.com)\n",
      "        537 points by rxi 20 hours ago  | hide | 239 comments              \n",
      "      \n",
      "                \n",
      "      22.      Static Hoisting (rauchg.com)\n",
      "        56 points by gk1 13 hours ago  | hide | 6 comments              \n",
      "      \n",
      "                \n",
      "      23.      Pose Animator: SVG animation tool using real-time TensorFlow.js models (github.com)\n",
      "        659 points by hardmaru 23 hours ago  | hide | 68 comments              \n",
      "      \n",
      "                \n",
      "      24.      Autograph hunting in Companies House (shkspr.mobi)\n",
      "        43 points by edent 10 hours ago  | hide | 14 comments              \n",
      "      \n",
      "                \n",
      "      25.      Getting Back to Work (tesla.com)\n",
      "        123 points by xoxoy 10 hours ago  | hide | 131 comments              \n",
      "      \n",
      "                \n",
      "      26.      Elliot Virtual Mall (docs.google.com)\n",
      "        48 points by ohaikbai 10 hours ago  | hide | 7 comments              \n",
      "      \n",
      "                \n",
      "      27.      First, it was Craigslist, next it's Zapier (ghost.io)\n",
      "        368 points by kamerontanseli 20 hours ago  | hide | 108 comments              \n",
      "      \n",
      "                \n",
      "      28.      If someone asks if you have any questions, ask a question (burke.dev)\n",
      "        178 points by kevinburke 16 hours ago  | hide | 115 comments              \n",
      "      \n",
      "                \n",
      "      29.      An Overview of the Spring System (1994) [pdf] (fsu.edu)\n",
      "        24 points by kick 11 hours ago  | hide | 4 comments              \n",
      "      \n",
      "                \n",
      "      30.      Little Richard has died (theguardian.com)\n",
      "        274 points by coloneltcb 22 hours ago  | hide | 51 comments              \n",
      "      \n",
      "            More\n",
      "  \n",
      "\n",
      "Guidelines\n",
      "        | FAQ\n",
      "        | Support\n",
      "        | API\n",
      "        | Security\n",
      "        | Lists\n",
      "        | Bookmarklet\n",
      "        | Legal\n",
      "        | Apply to YC\n",
      "        | ContactSearch:\n",
      "          \n",
      "            \n",
      "      \n",
      "\n"
     ]
    }
   ],
   "source": [
    "from bs4 import BeautifulSoup\n",
    "\n",
    "# Remove HTML tags using Beautiful Soup library\n",
    "soup = BeautifulSoup(r.text, \"html5lib\")\n",
    "print(soup.get_text())"
   ]
  },
  {
   "cell_type": "code",
   "execution_count": 7,
   "metadata": {
    "scrolled": true
   },
   "outputs": [
    {
     "data": {
      "text/plain": [
       "<tr class=\"athing\" id=\"23131559\">\n",
       "      <td align=\"right\" class=\"title\" valign=\"top\"><span class=\"rank\">1.</span></td>      <td class=\"votelinks\" valign=\"top\"><center><a href=\"vote?id=23131559&amp;how=up&amp;goto=news\" id=\"up_23131559\"><div class=\"votearrow\" title=\"upvote\"></div></a></center></td><td class=\"title\"><a class=\"storylink\" href=\"https://vole.wtf/scunthorpe-sans/\">Scunthorpe Sans – a self-censoring font</a><span class=\"sitebit comhead\"> (<a href=\"from?site=vole.wtf\"><span class=\"sitestr\">vole.wtf</span></a>)</span></td></tr>"
      ]
     },
     "execution_count": 7,
     "metadata": {},
     "output_type": "execute_result"
    }
   ],
   "source": [
    "# Find all articles\n",
    "summaries = soup.find_all(\"tr\", class_=\"athing\")\n",
    "summaries[0]"
   ]
  },
  {
   "cell_type": "code",
   "execution_count": 8,
   "metadata": {},
   "outputs": [
    {
     "data": {
      "text/plain": [
       "'Scunthorpe Sans – a self-censoring font'"
      ]
     },
     "execution_count": 8,
     "metadata": {},
     "output_type": "execute_result"
    }
   ],
   "source": [
    "# Extract title\n",
    "summaries[0].find(\"a\", class_=\"storylink\").get_text().strip()"
   ]
  },
  {
   "cell_type": "code",
   "execution_count": 9,
   "metadata": {},
   "outputs": [
    {
     "name": "stdout",
     "output_type": "stream",
     "text": [
      "30 Article summaries found. Sample:\n",
      "Scunthorpe Sans – a self-censoring font\n"
     ]
    }
   ],
   "source": [
    "# Find all articles, extract titles\n",
    "articles = []\n",
    "summaries = soup.find_all(\"tr\", class_=\"athing\")\n",
    "for summary in summaries:\n",
    "    title = summary.find(\"a\", class_=\"storylink\").get_text().strip()\n",
    "    articles.append((title))\n",
    "\n",
    "print(len(articles), \"Article summaries found. Sample:\")\n",
    "print(articles[0])"
   ]
  },
  {
   "cell_type": "markdown",
   "metadata": {
    "collapsed": true
   },
   "source": [
    "## Normalization"
   ]
  },
  {
   "cell_type": "markdown",
   "metadata": {},
   "source": [
    "### Case Normalization"
   ]
  },
  {
   "cell_type": "code",
   "execution_count": 10,
   "metadata": {},
   "outputs": [
    {
     "name": "stdout",
     "output_type": "stream",
     "text": [
      "The first time you see The Second Renaissance it may look boring. Look at it at least twice and definitely watch part 2. It will change your view of the matrix. Are the human people the ones who started the war ? Is AI a bad thing ?\n"
     ]
    }
   ],
   "source": [
    "# Sample text\n",
    "text = \"The first time you see The Second Renaissance it may look boring. Look at it at least twice and definitely watch part 2. It will change your view of the matrix. Are the human people the ones who started the war ? Is AI a bad thing ?\"\n",
    "print(text)"
   ]
  },
  {
   "cell_type": "code",
   "execution_count": 11,
   "metadata": {},
   "outputs": [
    {
     "name": "stdout",
     "output_type": "stream",
     "text": [
      "the first time you see the second renaissance it may look boring. look at it at least twice and definitely watch part 2. it will change your view of the matrix. are the human people the ones who started the war ? is ai a bad thing ?\n"
     ]
    }
   ],
   "source": [
    "# Convert to lowercase\n",
    "text = text.lower() \n",
    "print(text)"
   ]
  },
  {
   "cell_type": "markdown",
   "metadata": {},
   "source": [
    "### Punctuation Removal"
   ]
  },
  {
   "cell_type": "code",
   "execution_count": 12,
   "metadata": {},
   "outputs": [
    {
     "name": "stdout",
     "output_type": "stream",
     "text": [
      "the first time you see the second renaissance it may look boring  look at it at least twice and definitely watch part 2  it will change your view of the matrix  are the human people the ones who started the war   is ai a bad thing  \n"
     ]
    }
   ],
   "source": [
    "import re\n",
    "\n",
    "# Remove punctuation characters\n",
    "text = re.sub(r\"[^a-zA-Z0-9]\", \" \", text) \n",
    "print(text)"
   ]
  },
  {
   "cell_type": "markdown",
   "metadata": {},
   "source": [
    "## Tokenization"
   ]
  },
  {
   "cell_type": "code",
   "execution_count": 13,
   "metadata": {},
   "outputs": [
    {
     "name": "stdout",
     "output_type": "stream",
     "text": [
      "['the', 'first', 'time', 'you', 'see', 'the', 'second', 'renaissance', 'it', 'may', 'look', 'boring', 'look', 'at', 'it', 'at', 'least', 'twice', 'and', 'definitely', 'watch', 'part', '2', 'it', 'will', 'change', 'your', 'view', 'of', 'the', 'matrix', 'are', 'the', 'human', 'people', 'the', 'ones', 'who', 'started', 'the', 'war', 'is', 'ai', 'a', 'bad', 'thing']\n"
     ]
    }
   ],
   "source": [
    "# Split text into tokens (words)\n",
    "words = text.split()\n",
    "print(words)"
   ]
  },
  {
   "cell_type": "markdown",
   "metadata": {},
   "source": [
    "### NLTK: Natural Language ToolKit"
   ]
  },
  {
   "cell_type": "code",
   "execution_count": 14,
   "metadata": {},
   "outputs": [],
   "source": [
    "import os\n",
    "import nltk\n",
    "nltk.data.path.append(os.path.join(os.getcwd(), \"nltk_data\"))"
   ]
  },
  {
   "cell_type": "code",
   "execution_count": 15,
   "metadata": {},
   "outputs": [
    {
     "name": "stdout",
     "output_type": "stream",
     "text": [
      "Dr. Smith graduated from the University of Washington. He later started an analytics firm called Lux, which catered to enterprise customers.\n"
     ]
    }
   ],
   "source": [
    "# Another sample text\n",
    "text = \"Dr. Smith graduated from the University of Washington. He later started an analytics firm called Lux, which catered to enterprise customers.\"\n",
    "print(text)"
   ]
  },
  {
   "cell_type": "code",
   "execution_count": 16,
   "metadata": {},
   "outputs": [
    {
     "name": "stdout",
     "output_type": "stream",
     "text": [
      "['Dr.', 'Smith', 'graduated', 'from', 'the', 'University', 'of', 'Washington', '.', 'He', 'later', 'started', 'an', 'analytics', 'firm', 'called', 'Lux', ',', 'which', 'catered', 'to', 'enterprise', 'customers', '.']\n"
     ]
    }
   ],
   "source": [
    "from nltk.tokenize import word_tokenize\n",
    "\n",
    "# Split text into words using NLTK\n",
    "words = word_tokenize(text)\n",
    "print(words)"
   ]
  },
  {
   "cell_type": "code",
   "execution_count": 17,
   "metadata": {},
   "outputs": [
    {
     "name": "stdout",
     "output_type": "stream",
     "text": [
      "['Dr. Smith graduated from the University of Washington.', 'He later started an analytics firm called Lux, which catered to enterprise customers.']\n"
     ]
    }
   ],
   "source": [
    "from nltk.tokenize import sent_tokenize\n",
    "\n",
    "# Split text into sentences\n",
    "sentences = sent_tokenize(text)\n",
    "print(sentences)"
   ]
  },
  {
   "cell_type": "code",
   "execution_count": 18,
   "metadata": {},
   "outputs": [
    {
     "name": "stdout",
     "output_type": "stream",
     "text": [
      "['i', 'me', 'my', 'myself', 'we', 'our', 'ours', 'ourselves', 'you', \"you're\", \"you've\", \"you'll\", \"you'd\", 'your', 'yours', 'yourself', 'yourselves', 'he', 'him', 'his', 'himself', 'she', \"she's\", 'her', 'hers', 'herself', 'it', \"it's\", 'its', 'itself', 'they', 'them', 'their', 'theirs', 'themselves', 'what', 'which', 'who', 'whom', 'this', 'that', \"that'll\", 'these', 'those', 'am', 'is', 'are', 'was', 'were', 'be', 'been', 'being', 'have', 'has', 'had', 'having', 'do', 'does', 'did', 'doing', 'a', 'an', 'the', 'and', 'but', 'if', 'or', 'because', 'as', 'until', 'while', 'of', 'at', 'by', 'for', 'with', 'about', 'against', 'between', 'into', 'through', 'during', 'before', 'after', 'above', 'below', 'to', 'from', 'up', 'down', 'in', 'out', 'on', 'off', 'over', 'under', 'again', 'further', 'then', 'once', 'here', 'there', 'when', 'where', 'why', 'how', 'all', 'any', 'both', 'each', 'few', 'more', 'most', 'other', 'some', 'such', 'no', 'nor', 'not', 'only', 'own', 'same', 'so', 'than', 'too', 'very', 's', 't', 'can', 'will', 'just', 'don', \"don't\", 'should', \"should've\", 'now', 'd', 'll', 'm', 'o', 're', 've', 'y', 'ain', 'aren', \"aren't\", 'couldn', \"couldn't\", 'didn', \"didn't\", 'doesn', \"doesn't\", 'hadn', \"hadn't\", 'hasn', \"hasn't\", 'haven', \"haven't\", 'isn', \"isn't\", 'ma', 'mightn', \"mightn't\", 'mustn', \"mustn't\", 'needn', \"needn't\", 'shan', \"shan't\", 'shouldn', \"shouldn't\", 'wasn', \"wasn't\", 'weren', \"weren't\", 'won', \"won't\", 'wouldn', \"wouldn't\"]\n"
     ]
    }
   ],
   "source": [
    "# List stop words\n",
    "from nltk.corpus import stopwords\n",
    "print(stopwords.words(\"english\"))"
   ]
  },
  {
   "cell_type": "code",
   "execution_count": 19,
   "metadata": {},
   "outputs": [
    {
     "name": "stdout",
     "output_type": "stream",
     "text": [
      "['the', 'first', 'time', 'you', 'see', 'the', 'second', 'renaissance', 'it', 'may', 'look', 'boring', 'look', 'at', 'it', 'at', 'least', 'twice', 'and', 'definitely', 'watch', 'part', '2', 'it', 'will', 'change', 'your', 'view', 'of', 'the', 'matrix', 'are', 'the', 'human', 'people', 'the', 'ones', 'who', 'started', 'the', 'war', 'is', 'ai', 'a', 'bad', 'thing']\n"
     ]
    }
   ],
   "source": [
    "# Reset text\n",
    "text = \"The first time you see The Second Renaissance it may look boring. Look at it at least twice and definitely watch part 2. It will change your view of the matrix. Are the human people the ones who started the war ? Is AI a bad thing ?\"\n",
    "\n",
    "# Normalize it\n",
    "text = re.sub(r\"[^a-zA-Z0-9]\", \" \", text.lower())\n",
    "\n",
    "# Tokenize it\n",
    "words = text.split()\n",
    "print(words)"
   ]
  },
  {
   "cell_type": "code",
   "execution_count": 20,
   "metadata": {},
   "outputs": [
    {
     "name": "stdout",
     "output_type": "stream",
     "text": [
      "['first', 'time', 'see', 'second', 'renaissance', 'may', 'look', 'boring', 'look', 'least', 'twice', 'definitely', 'watch', 'part', '2', 'change', 'view', 'matrix', 'human', 'people', 'ones', 'started', 'war', 'ai', 'bad', 'thing']\n"
     ]
    }
   ],
   "source": [
    "# Remove stop words\n",
    "words = [w for w in words if w not in stopwords.words(\"english\")]\n",
    "print(words)"
   ]
  },
  {
   "cell_type": "markdown",
   "metadata": {},
   "source": [
    "### Sentence Parsing"
   ]
  },
  {
   "cell_type": "code",
   "execution_count": 21,
   "metadata": {},
   "outputs": [
    {
     "name": "stdout",
     "output_type": "stream",
     "text": [
      "(S\n",
      "  (NP I)\n",
      "  (VP\n",
      "    (VP (V shot) (NP (Det an) (N elephant)))\n",
      "    (PP (P in) (NP (Det my) (N pajamas)))))\n",
      "(S\n",
      "  (NP I)\n",
      "  (VP\n",
      "    (V shot)\n",
      "    (NP (Det an) (N elephant) (PP (P in) (NP (Det my) (N pajamas))))))\n"
     ]
    }
   ],
   "source": [
    "import nltk\n",
    "\n",
    "# Define a custom grammar\n",
    "my_grammar = nltk.CFG.fromstring(\"\"\"\n",
    "S -> NP VP\n",
    "PP -> P NP\n",
    "NP -> Det N | Det N PP | 'I'\n",
    "VP -> V NP | VP PP\n",
    "Det -> 'an' | 'my'\n",
    "N -> 'elephant' | 'pajamas'\n",
    "V -> 'shot'\n",
    "P -> 'in'\n",
    "\"\"\")\n",
    "parser = nltk.ChartParser(my_grammar)\n",
    "\n",
    "# Parse a sentence\n",
    "sentence = word_tokenize(\"I shot an elephant in my pajamas\")\n",
    "for tree in parser.parse(sentence):\n",
    "    print(tree)"
   ]
  },
  {
   "cell_type": "markdown",
   "metadata": {},
   "source": [
    "## Stemming & Lemmatization\n",
    "\n",
    "### Stemming"
   ]
  },
  {
   "cell_type": "code",
   "execution_count": 22,
   "metadata": {},
   "outputs": [
    {
     "name": "stdout",
     "output_type": "stream",
     "text": [
      "['first', 'time', 'see', 'second', 'renaiss', 'may', 'look', 'bore', 'look', 'least', 'twice', 'definit', 'watch', 'part', '2', 'chang', 'view', 'matrix', 'human', 'peopl', 'one', 'start', 'war', 'ai', 'bad', 'thing']\n"
     ]
    }
   ],
   "source": [
    "from nltk.stem.porter import PorterStemmer\n",
    "\n",
    "# Reduce words to their stems\n",
    "stemmed = [PorterStemmer().stem(w) for w in words]\n",
    "print(stemmed)"
   ]
  },
  {
   "cell_type": "markdown",
   "metadata": {},
   "source": [
    "### Lemmatization"
   ]
  },
  {
   "cell_type": "code",
   "execution_count": 23,
   "metadata": {},
   "outputs": [
    {
     "name": "stdout",
     "output_type": "stream",
     "text": [
      "['first', 'time', 'see', 'second', 'renaissance', 'may', 'look', 'boring', 'look', 'least', 'twice', 'definitely', 'watch', 'part', '2', 'change', 'view', 'matrix', 'human', 'people', 'one', 'started', 'war', 'ai', 'bad', 'thing']\n"
     ]
    }
   ],
   "source": [
    "from nltk.stem.wordnet import WordNetLemmatizer\n",
    "\n",
    "# Reduce words to their root form\n",
    "lemmed = [WordNetLemmatizer().lemmatize(w) for w in words]\n",
    "print(lemmed)"
   ]
  },
  {
   "cell_type": "code",
   "execution_count": 24,
   "metadata": {},
   "outputs": [
    {
     "name": "stdout",
     "output_type": "stream",
     "text": [
      "['first', 'time', 'see', 'second', 'renaissance', 'may', 'look', 'bore', 'look', 'least', 'twice', 'definitely', 'watch', 'part', '2', 'change', 'view', 'matrix', 'human', 'people', 'one', 'start', 'war', 'ai', 'bad', 'thing']\n"
     ]
    }
   ],
   "source": [
    "# Lemmatize verbs by specifying pos\n",
    "lemmed = [WordNetLemmatizer().lemmatize(w, pos='v') for w in lemmed]\n",
    "print(lemmed)"
   ]
  },
  {
   "cell_type": "code",
   "execution_count": null,
   "metadata": {},
   "outputs": [],
   "source": []
  },
  {
   "cell_type": "code",
   "execution_count": null,
   "metadata": {},
   "outputs": [],
   "source": []
  },
  {
   "cell_type": "code",
   "execution_count": null,
   "metadata": {},
   "outputs": [],
   "source": []
  },
  {
   "cell_type": "code",
   "execution_count": null,
   "metadata": {},
   "outputs": [],
   "source": []
  },
  {
   "cell_type": "code",
   "execution_count": null,
   "metadata": {},
   "outputs": [],
   "source": []
  },
  {
   "cell_type": "code",
   "execution_count": null,
   "metadata": {},
   "outputs": [],
   "source": []
  },
  {
   "cell_type": "code",
   "execution_count": null,
   "metadata": {},
   "outputs": [],
   "source": []
  },
  {
   "cell_type": "code",
   "execution_count": null,
   "metadata": {},
   "outputs": [],
   "source": []
  },
  {
   "cell_type": "code",
   "execution_count": null,
   "metadata": {},
   "outputs": [],
   "source": []
  },
  {
   "cell_type": "code",
   "execution_count": null,
   "metadata": {},
   "outputs": [],
   "source": []
  },
  {
   "cell_type": "code",
   "execution_count": null,
   "metadata": {},
   "outputs": [],
   "source": []
  },
  {
   "cell_type": "code",
   "execution_count": null,
   "metadata": {},
   "outputs": [],
   "source": []
  }
 ],
 "metadata": {
  "kernelspec": {
   "display_name": "Python 3",
   "language": "python",
   "name": "python3"
  },
  "language_info": {
   "codemirror_mode": {
    "name": "ipython",
    "version": 3
   },
   "file_extension": ".py",
   "mimetype": "text/x-python",
   "name": "python",
   "nbconvert_exporter": "python",
   "pygments_lexer": "ipython3",
   "version": "3.6.3"
  }
 },
 "nbformat": 4,
 "nbformat_minor": 2
}
